{
 "cells": [
  {
   "cell_type": "code",
   "execution_count": 1,
   "metadata": {},
   "outputs": [],
   "source": [
    "import json\n",
    "import requests\n",
    "import pandas as pd\n",
    "import time"
   ]
  },
  {
   "cell_type": "code",
   "execution_count": 2,
   "metadata": {},
   "outputs": [],
   "source": [
    "DUNE_KEY = ''"
   ]
  },
  {
   "cell_type": "code",
   "execution_count": 3,
   "metadata": {},
   "outputs": [],
   "source": [
    "def load_query_sql_to_file(dune_key, query_id, folder_name):\n",
    "    \n",
    "    headers = {\"X-Dune-API-Key\": dune_key}\n",
    "\n",
    "    \n",
    "    base_url = f\"https://api.dune.com/api/v1/query/{query_id}\"\n",
    "    result_response = requests.request(\"GET\", base_url, headers=headers)\n",
    "    if result_response.status_code == 200:\n",
    "        fl= open(f\"{folder_name}/{query_id}.sql\",\"w+\")\n",
    "        \n",
    "        lines = [f'--Name: {result_response.json()[\"name\"]}\\n', \n",
    "                 f'--Description: {result_response.json()[\"description\"]}\\n', \n",
    "                 f'--Parameters: {result_response.json()[\"parameters\"]}\\n', \n",
    "                 f'{result_response.json()[\"query_sql\"]}']\n",
    "        fl.writelines(lines)\n",
    "        fl.close()\n",
    "    else:\n",
    "        print(f\"{query_id} is not found\")"
   ]
  },
  {
   "cell_type": "code",
   "execution_count": 4,
   "metadata": {},
   "outputs": [],
   "source": [
    "MC_queries = [2679179, 2111543, 2481449, 2768378, 2768351, 2769771, 570874, 2828505, 2768041, 3003775, \n",
    "              2481449, 2786040, 2005642, 2771167, 2786038, 2512083, 2818519, 2818580, 2770733, 2770416,\n",
    "              2782507, 54190, 1681618, 2415558, 459431, 374112, 2819122, 54574, 54908, 2782801, 2771804, 2771340              \n",
    "              ]"
   ]
  },
  {
   "cell_type": "code",
   "execution_count": 6,
   "metadata": {},
   "outputs": [],
   "source": [
    "for q in MC_queries:\n",
    "    load_query_sql_to_file(DUNE_KEY, q, 'Morning_Coffee')"
   ]
  }
 ],
 "metadata": {
  "kernelspec": {
   "display_name": "Python 3",
   "language": "python",
   "name": "python3"
  },
  "language_info": {
   "codemirror_mode": {
    "name": "ipython",
    "version": 3
   },
   "file_extension": ".py",
   "mimetype": "text/x-python",
   "name": "python",
   "nbconvert_exporter": "python",
   "pygments_lexer": "ipython3",
   "version": "3.10.0"
  },
  "orig_nbformat": 4
 },
 "nbformat": 4,
 "nbformat_minor": 2
}
