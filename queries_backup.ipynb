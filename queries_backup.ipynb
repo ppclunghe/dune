{
 "cells": [
  {
   "cell_type": "code",
   "execution_count": 1,
   "metadata": {},
   "outputs": [],
   "source": [
    "import json\n",
    "import requests\n",
    "import time\n",
    "import os"
   ]
  },
  {
   "cell_type": "code",
   "execution_count": 5,
   "metadata": {},
   "outputs": [],
   "source": [
    "DUNE_KEY = os.environ[\"DUNE_KEY\"]"
   ]
  },
  {
   "cell_type": "code",
   "execution_count": 7,
   "metadata": {},
   "outputs": [],
   "source": [
    "def load_query_sql_to_file(dune_key, query_id, folder_name):\n",
    "    \n",
    "    headers = {\"X-Dune-API-Key\": dune_key}\n",
    "\n",
    "    \n",
    "    base_url = f\"https://api.dune.com/api/v1/query/{query_id}\"\n",
    "    result_response = requests.request(\"GET\", base_url, headers=headers)\n",
    "    if result_response.status_code == 200:\n",
    "        fl= open(f\"{folder_name}/{query_id}.sql\",\"w+\")\n",
    "        \n",
    "        lines = [f'--Name: {result_response.json()[\"name\"]}\\n', \n",
    "                 f'--Description: {result_response.json()[\"description\"]}\\n', \n",
    "                 f'--Parameters: {result_response.json()[\"parameters\"]}\\n', \n",
    "                 f'{result_response.json()[\"query_sql\"]}']\n",
    "        fl.writelines(lines)\n",
    "        fl.close()\n",
    "    else:\n",
    "        print(f\"{query_id} is not found\")"
   ]
  },
  {
   "cell_type": "code",
   "execution_count": 6,
   "metadata": {},
   "outputs": [],
   "source": [
    "MC_queries = [2679179, 2111543, 2481449, 2768378, 2768351, 2769771, 570874, 2828505, 2768041, 3003775, \n",
    "              2481449, 2786040, 2005642, 2771167, 2786038, 2512083, 2818519, 2818580, 2770733, 2770416,\n",
    "              2782507, 54190, 1681618, 2415558, 459431, 374112, 2819122, 54574, 54908, 2782801, 2771804, 2771340              \n",
    "              ]"
   ]
  },
  {
   "cell_type": "code",
   "execution_count": 8,
   "metadata": {},
   "outputs": [
    {
     "ename": "FileNotFoundError",
     "evalue": "[Errno 2] No such file or directory: 'Morning_Coffee/2679179.sql'",
     "output_type": "error",
     "traceback": [
      "\u001b[1;31m---------------------------------------------------------------------------\u001b[0m",
      "\u001b[1;31mFileNotFoundError\u001b[0m                         Traceback (most recent call last)",
      "\u001b[1;32m~\\AppData\\Local\\Temp/ipykernel_25896/3204305055.py\u001b[0m in \u001b[0;36m<module>\u001b[1;34m\u001b[0m\n\u001b[0;32m      1\u001b[0m \u001b[1;32mfor\u001b[0m \u001b[0mq\u001b[0m \u001b[1;32min\u001b[0m \u001b[0mMC_queries\u001b[0m\u001b[1;33m:\u001b[0m\u001b[1;33m\u001b[0m\u001b[1;33m\u001b[0m\u001b[0m\n\u001b[1;32m----> 2\u001b[1;33m     \u001b[0mload_query_sql_to_file\u001b[0m\u001b[1;33m(\u001b[0m\u001b[0mDUNE_KEY\u001b[0m\u001b[1;33m,\u001b[0m \u001b[0mq\u001b[0m\u001b[1;33m,\u001b[0m \u001b[1;34m'Morning_Coffee'\u001b[0m\u001b[1;33m)\u001b[0m\u001b[1;33m\u001b[0m\u001b[1;33m\u001b[0m\u001b[0m\n\u001b[0m",
      "\u001b[1;32m~\\AppData\\Local\\Temp/ipykernel_25896/3779849348.py\u001b[0m in \u001b[0;36mload_query_sql_to_file\u001b[1;34m(dune_key, query_id, folder_name)\u001b[0m\n\u001b[0;32m      7\u001b[0m     \u001b[0mresult_response\u001b[0m \u001b[1;33m=\u001b[0m \u001b[0mrequests\u001b[0m\u001b[1;33m.\u001b[0m\u001b[0mrequest\u001b[0m\u001b[1;33m(\u001b[0m\u001b[1;34m\"GET\"\u001b[0m\u001b[1;33m,\u001b[0m \u001b[0mbase_url\u001b[0m\u001b[1;33m,\u001b[0m \u001b[0mheaders\u001b[0m\u001b[1;33m=\u001b[0m\u001b[0mheaders\u001b[0m\u001b[1;33m)\u001b[0m\u001b[1;33m\u001b[0m\u001b[1;33m\u001b[0m\u001b[0m\n\u001b[0;32m      8\u001b[0m     \u001b[1;32mif\u001b[0m \u001b[0mresult_response\u001b[0m\u001b[1;33m.\u001b[0m\u001b[0mstatus_code\u001b[0m \u001b[1;33m==\u001b[0m \u001b[1;36m200\u001b[0m\u001b[1;33m:\u001b[0m\u001b[1;33m\u001b[0m\u001b[1;33m\u001b[0m\u001b[0m\n\u001b[1;32m----> 9\u001b[1;33m         \u001b[0mfl\u001b[0m\u001b[1;33m=\u001b[0m \u001b[0mopen\u001b[0m\u001b[1;33m(\u001b[0m\u001b[1;34mf\"{folder_name}/{query_id}.sql\"\u001b[0m\u001b[1;33m,\u001b[0m\u001b[1;34m\"w+\"\u001b[0m\u001b[1;33m)\u001b[0m\u001b[1;33m\u001b[0m\u001b[1;33m\u001b[0m\u001b[0m\n\u001b[0m\u001b[0;32m     10\u001b[0m \u001b[1;33m\u001b[0m\u001b[0m\n\u001b[0;32m     11\u001b[0m         lines = [f'--Name: {result_response.json()[\"name\"]}\\n', \n",
      "\u001b[1;31mFileNotFoundError\u001b[0m: [Errno 2] No such file or directory: 'Morning_Coffee/2679179.sql'"
     ]
    }
   ],
   "source": [
    "for q in MC_queries:\n",
    "    load_query_sql_to_file(DUNE_KEY, q, 'Morning_Coffee')"
   ]
  }
 ],
 "metadata": {
  "kernelspec": {
   "display_name": "Python 3",
   "language": "python",
   "name": "python3"
  },
  "language_info": {
   "codemirror_mode": {
    "name": "ipython",
    "version": 3
   },
   "file_extension": ".py",
   "mimetype": "text/x-python",
   "name": "python",
   "nbconvert_exporter": "python",
   "pygments_lexer": "ipython3",
   "version": "3.10.0"
  },
  "orig_nbformat": 4
 },
 "nbformat": 4,
 "nbformat_minor": 2
}
