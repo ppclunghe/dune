{
 "cells": [
  {
   "cell_type": "code",
   "execution_count": 6,
   "metadata": {},
   "outputs": [],
   "source": [
    "import json\n",
    "import requests\n",
    "import time\n",
    "import os\n",
    "import pandas as pd"
   ]
  },
  {
   "cell_type": "code",
   "execution_count": 4,
   "metadata": {},
   "outputs": [],
   "source": [
    "DUNE_KEY = os.environ[\"DUNE_KEY\"]"
   ]
  },
  {
   "cell_type": "code",
   "execution_count": 5,
   "metadata": {},
   "outputs": [],
   "source": [
    "def load_query_sql_to_file(dune_key, query_id, folder_name):\n",
    "    \n",
    "    headers = {\"X-Dune-API-Key\": dune_key}\n",
    "\n",
    "    \n",
    "    base_url = f\"https://api.dune.com/api/v1/query/{query_id}\"\n",
    "    result_response = requests.request(\"GET\", base_url, headers=headers)\n",
    "    if result_response.status_code == 200:\n",
    "        fl= open(f\"{folder_name}/{query_id}.sql\",\"w+\")\n",
    "        \n",
    "        lines = [f'--Name: {result_response.json()[\"name\"]}\\n', \n",
    "                 f'--Description: {result_response.json()[\"description\"]}\\n', \n",
    "                 f'--Parameters: {result_response.json()[\"parameters\"]}\\n', \n",
    "                 f'{result_response.json()[\"query_sql\"]}']\n",
    "        fl.writelines(lines)\n",
    "        fl.close()\n",
    "    else:\n",
    "        print(f\"{query_id} is not found\")"
   ]
  },
  {
   "cell_type": "code",
   "execution_count": 14,
   "metadata": {},
   "outputs": [],
   "source": [
    "queries = pd.read_csv('Lists_of_queries_MC.csv')\n",
    "MC_queries = queries[\"ID\"].to_list()\n"
   ]
  },
  {
   "cell_type": "code",
   "execution_count": 15,
   "metadata": {},
   "outputs": [],
   "source": [
    "for q in MC_queries:\n",
    "    load_query_sql_to_file(DUNE_KEY, q, 'Morning_Coffee')"
   ]
  }
 ],
 "metadata": {
  "kernelspec": {
   "display_name": "Python 3",
   "language": "python",
   "name": "python3"
  },
  "language_info": {
   "codemirror_mode": {
    "name": "ipython",
    "version": 3
   },
   "file_extension": ".py",
   "mimetype": "text/x-python",
   "name": "python",
   "nbconvert_exporter": "python",
   "pygments_lexer": "ipython3",
   "version": "3.10.0"
  },
  "orig_nbformat": 4
 },
 "nbformat": 4,
 "nbformat_minor": 2
}
